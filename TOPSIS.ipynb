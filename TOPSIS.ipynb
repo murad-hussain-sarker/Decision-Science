{
  "nbformat": 4,
  "nbformat_minor": 0,
  "metadata": {
    "colab": {
      "provenance": []
    },
    "kernelspec": {
      "name": "python3",
      "display_name": "Python 3"
    },
    "language_info": {
      "name": "python"
    }
  },
  "cells": [
    {
      "cell_type": "code",
      "execution_count": 1,
      "metadata": {
        "id": "yfU4VxmO8ALa"
      },
      "outputs": [],
      "source": [
        "import numpy as np\n",
        "import pandas as pd\n",
        "\n",
        "decision_matrix = np.array([[250, 16, 12, 5],\n",
        "                            [200, 16, 12, 3],\n",
        "                            [300, 16, 12, 4],\n",
        "                            [275, 32, 8,  4],\n",
        "                            [225, 16, 16, 2]\n",
        "                            ])"
      ]
    },
    {
      "cell_type": "code",
      "source": [
        "weights = np.array([0.25, 0.25, 0.25, 0.25])\n"
      ],
      "metadata": {
        "id": "HFCGpBGU-eRN"
      },
      "execution_count": 47,
      "outputs": []
    },
    {
      "cell_type": "code",
      "source": [
        "normalized_matrix = decision_matrix / np.sqrt(decision_matrix **2).sum(axis=0)\n",
        "normalized_matrix"
      ],
      "metadata": {
        "colab": {
          "base_uri": "https://localhost:8080/"
        },
        "id": "AFidKO_J-yU3",
        "outputId": "d204e909-a73a-4b90-d65b-ccabb8b8038f"
      },
      "execution_count": 48,
      "outputs": [
        {
          "output_type": "execute_result",
          "data": {
            "text/plain": [
              "array([[0.2       , 0.16666667, 0.2       , 0.27777778],\n",
              "       [0.16      , 0.16666667, 0.2       , 0.16666667],\n",
              "       [0.24      , 0.16666667, 0.2       , 0.22222222],\n",
              "       [0.22      , 0.33333333, 0.13333333, 0.22222222],\n",
              "       [0.18      , 0.16666667, 0.26666667, 0.11111111]])"
            ]
          },
          "metadata": {},
          "execution_count": 48
        }
      ]
    },
    {
      "cell_type": "code",
      "source": [
        "weighted_normalised_matrix = normalized_matrix * weights\n",
        "weighted_normalised_matrix"
      ],
      "metadata": {
        "colab": {
          "base_uri": "https://localhost:8080/"
        },
        "id": "YUBsZZZS_iEy",
        "outputId": "e5380200-6292-4d6d-a4f3-c976d45303a3"
      },
      "execution_count": 49,
      "outputs": [
        {
          "output_type": "execute_result",
          "data": {
            "text/plain": [
              "array([[0.05      , 0.04166667, 0.05      , 0.06944444],\n",
              "       [0.04      , 0.04166667, 0.05      , 0.04166667],\n",
              "       [0.06      , 0.04166667, 0.05      , 0.05555556],\n",
              "       [0.055     , 0.08333333, 0.03333333, 0.05555556],\n",
              "       [0.045     , 0.04166667, 0.06666667, 0.02777778]])"
            ]
          },
          "metadata": {},
          "execution_count": 49
        }
      ]
    },
    {
      "cell_type": "code",
      "source": [
        "ideal_best = np.array([weighted_normalised_matrix[:, i].max() if weights[i] > 0 else weighted_normalised_matrix[:, i].min() for i in range(len(weights))])\n",
        "ideal_best"
      ],
      "metadata": {
        "colab": {
          "base_uri": "https://localhost:8080/"
        },
        "id": "eibBMcVA_17t",
        "outputId": "93fedee6-8be5-4803-deb3-8237a9eb5425"
      },
      "execution_count": 50,
      "outputs": [
        {
          "output_type": "execute_result",
          "data": {
            "text/plain": [
              "array([0.06      , 0.08333333, 0.06666667, 0.06944444])"
            ]
          },
          "metadata": {},
          "execution_count": 50
        }
      ]
    },
    {
      "cell_type": "code",
      "source": [
        "ideal_worst =  np.array([weighted_normalised_matrix[:, i].min() if weights[i] > 0 else weighted_normalised_matrix[:, i].max() for i in range(len(weights))])\n",
        "ideal_worst"
      ],
      "metadata": {
        "colab": {
          "base_uri": "https://localhost:8080/"
        },
        "id": "o6WavrKqA4zQ",
        "outputId": "204ec040-c9da-409f-a26b-c0026f15f6b5"
      },
      "execution_count": 51,
      "outputs": [
        {
          "output_type": "execute_result",
          "data": {
            "text/plain": [
              "array([0.04      , 0.04166667, 0.03333333, 0.02777778])"
            ]
          },
          "metadata": {},
          "execution_count": 51
        }
      ]
    },
    {
      "cell_type": "code",
      "source": [
        "euclidean_distance_ideal_best = np.sqrt(((weighted_normalised_matrix - ideal_best) ** 2).sum(axis=1))\n",
        "euclidean_distance_ideal_best"
      ],
      "metadata": {
        "colab": {
          "base_uri": "https://localhost:8080/"
        },
        "id": "SzoH575FBgn9",
        "outputId": "ce120f49-143f-49ac-a275-9f8bef17c82f"
      },
      "execution_count": 52,
      "outputs": [
        {
          "output_type": "execute_result",
          "data": {
            "text/plain": [
              "array([0.04597705, 0.05644018, 0.04697648, 0.03645562, 0.06080479])"
            ]
          },
          "metadata": {},
          "execution_count": 52
        }
      ]
    },
    {
      "cell_type": "code",
      "source": [
        "euclidean_distance_ideal_worst= np.sqrt(((weighted_normalised_matrix - ideal_worst) ** 2).sum(axis=1))\n",
        "euclidean_distance_ideal_worst"
      ],
      "metadata": {
        "colab": {
          "base_uri": "https://localhost:8080/"
        },
        "id": "dRdMigLqDFUv",
        "outputId": "81f6830c-edc8-498c-b492-7d740ed4ce3f"
      },
      "execution_count": 53,
      "outputs": [
        {
          "output_type": "execute_result",
          "data": {
            "text/plain": [
              "array([0.04597705, 0.02169514, 0.03807076, 0.05227539, 0.03370625])"
            ]
          },
          "metadata": {},
          "execution_count": 53
        }
      ]
    },
    {
      "cell_type": "code",
      "source": [
        "preferences = euclidean_distance_ideal_worst / (euclidean_distance_ideal_best + euclidean_distance_ideal_worst)\n",
        "preferences"
      ],
      "metadata": {
        "colab": {
          "base_uri": "https://localhost:8080/"
        },
        "id": "-z692lPhDbCM",
        "outputId": "0156c334-5f38-426f-a3f4-5dd30cdff33b"
      },
      "execution_count": 54,
      "outputs": [
        {
          "output_type": "execute_result",
          "data": {
            "text/plain": [
              "array([0.5       , 0.2776611 , 0.44764248, 0.58914451, 0.35663822])"
            ]
          },
          "metadata": {},
          "execution_count": 54
        }
      ]
    },
    {
      "cell_type": "code",
      "source": [
        "best_alternative = np.argsort(preferences)\n",
        "best_alternative"
      ],
      "metadata": {
        "colab": {
          "base_uri": "https://localhost:8080/"
        },
        "id": "GSL4U-GuEEIz",
        "outputId": "cce07b05-3ddd-4ea4-ec4d-094137b07d93"
      },
      "execution_count": 55,
      "outputs": [
        {
          "output_type": "execute_result",
          "data": {
            "text/plain": [
              "array([1, 4, 2, 0, 3])"
            ]
          },
          "metadata": {},
          "execution_count": 55
        }
      ]
    },
    {
      "cell_type": "code",
      "source": [
        "print(\"Preferences:\", preferences)\n",
        "print(preferences)\n",
        "print(\"\\nBest Alternatives:\", best_alternative)\n",
        "print(\"Rank:\", best_alternative + 1)"
      ],
      "metadata": {
        "colab": {
          "base_uri": "https://localhost:8080/"
        },
        "id": "pLOaFFleEVvL",
        "outputId": "baabb338-c755-4d9c-e00c-a8ab570b548e"
      },
      "execution_count": 56,
      "outputs": [
        {
          "output_type": "stream",
          "name": "stdout",
          "text": [
            "Preferences: [0.5        0.2776611  0.44764248 0.58914451 0.35663822]\n",
            "[0.5        0.2776611  0.44764248 0.58914451 0.35663822]\n",
            "\n",
            "Best Alternatives: [1 4 2 0 3]\n",
            "Rank: [2 5 3 1 4]\n"
          ]
        }
      ]
    }
  ]
}